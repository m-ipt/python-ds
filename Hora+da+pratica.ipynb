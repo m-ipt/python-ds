{
  "nbformat": 4,
  "nbformat_minor": 0,
  "metadata": {
    "colab": {
      "provenance": []
    },
    "kernelspec": {
      "name": "python3",
      "display_name": "Python 3"
    },
    "language_info": {
      "name": "python"
    }
  },
  "cells": [
    {
      "cell_type": "markdown",
      "source": [
        "# Sobre o notebook\n",
        "\n",
        "A \"hora da prática\" é uma atividade do curso de Python para Data Science da Alura que contém diversos desafios envolvendo os aprendizados de cada aula.\n",
        "\n",
        "O notebook \"hora da pratica\" é um notebook construído com espaço para as células dos desafios propostos no curso, com ele você tem espaço para construir e executar suas soluções"
      ],
      "metadata": {
        "id": "_kwAaQ36gLQ1"
      }
    },
    {
      "cell_type": "markdown",
      "source": [
        "## Aula 1 - Introdução ao Python"
      ],
      "metadata": {
        "id": "Mc-KN0dA0Z83"
      }
    },
    {
      "cell_type": "markdown",
      "source": [
        "### Questão 1\n",
        "\n",
        "Imprima a frase `Escola de Dados da Alura!`"
      ],
      "metadata": {
        "id": "l5eLWf0W0ikn"
      }
    },
    {
      "cell_type": "code",
      "source": [
        "print('Escola de Dados da Alura!')"
      ],
      "metadata": {
        "id": "5pllxJ0h0-yA",
        "colab": {
          "base_uri": "https://localhost:8080/"
        },
        "outputId": "c92d5e73-7ef5-47a4-b347-d2a5fe4f6ab0"
      },
      "execution_count": 1,
      "outputs": [
        {
          "output_type": "stream",
          "name": "stdout",
          "text": [
            "Escola de Dados da Alura!\n"
          ]
        }
      ]
    },
    {
      "cell_type": "markdown",
      "source": [
        "### Questão 2\n",
        "Imprima na tela seu nome e seu sobrenome seguindo a estrutura abaixo:\n",
        "```\n",
        "Nome: [seu nome]\n",
        "Sobrenome: [seu sobrenome]\n",
        "```\n"
      ],
      "metadata": {
        "id": "tQdX90Ue03c7"
      }
    },
    {
      "cell_type": "code",
      "source": [
        "print('Nome: Maria Isabel')\n",
        "print('Sobrenome: Teixeira')"
      ],
      "metadata": {
        "id": "RVw5iKn20_Ps",
        "colab": {
          "base_uri": "https://localhost:8080/"
        },
        "outputId": "ef6f9ee4-93b2-4394-bac8-01c374a6fbe3"
      },
      "execution_count": 3,
      "outputs": [
        {
          "output_type": "stream",
          "name": "stdout",
          "text": [
            "Nome: Maria Isabel\n",
            "Sobrenome: Teixeira\n"
          ]
        }
      ]
    },
    {
      "cell_type": "markdown",
      "source": [
        "### Questão 3\n",
        "Imprima o seu primeiro nome letra a letra. Por exemplo, nome é Mirla, então eu obtenho a seguinte saída:\n",
        "```\n",
        "M\n",
        "I\n",
        "R\n",
        "L\n",
        "A\n",
        "```\n"
      ],
      "metadata": {
        "id": "gfg-aiip03vC"
      }
    },
    {
      "cell_type": "code",
      "source": [
        "print('M')\n",
        "print('A')\n",
        "print('R')\n",
        "print('I')\n",
        "print('A')"
      ],
      "metadata": {
        "id": "v5bkrgf60_qx",
        "colab": {
          "base_uri": "https://localhost:8080/"
        },
        "outputId": "96ef8433-6bc9-45b9-cf71-08930f2bfe5e"
      },
      "execution_count": 4,
      "outputs": [
        {
          "output_type": "stream",
          "name": "stdout",
          "text": [
            "M\n",
            "A\n",
            "R\n",
            "I\n",
            "A\n"
          ]
        }
      ]
    },
    {
      "cell_type": "markdown",
      "source": [
        "### Questão 4\n",
        "Imprima o dia do seu nascimento em formato `dia mês ano`. Os valores de dia e ano não podem estar entre aspas. O formato deve estar como no exemplo, supondo uma data de aniversário dia 28 de fevereiro de 2003:\n",
        "```\n",
        "28 fevereiro 2003\n",
        "```"
      ],
      "metadata": {
        "id": "oadrJbl704MM"
      }
    },
    {
      "cell_type": "code",
      "source": [
        "print(16, 'dezembro', 2000)"
      ],
      "metadata": {
        "id": "cx0KSsrq1ALD",
        "colab": {
          "base_uri": "https://localhost:8080/"
        },
        "outputId": "f989032a-e0c1-4004-84a4-0a7acfde17ec"
      },
      "execution_count": 7,
      "outputs": [
        {
          "output_type": "stream",
          "name": "stdout",
          "text": [
            "16 dezembro 2000\n"
          ]
        }
      ]
    },
    {
      "cell_type": "markdown",
      "source": [
        "### Questão 5\n",
        "Imprima em um único print o atual ano que você está fazendo esse curso, o valor do ano deve ser um dado numérico. A saída do print deve ser a seguinte:\n",
        "```\n",
        "Ano atual: [ano]\n",
        "```\n"
      ],
      "metadata": {
        "id": "3RgyMaan04TD"
      }
    },
    {
      "cell_type": "code",
      "execution_count": 8,
      "metadata": {
        "id": "UN77EfQ2d36Y",
        "colab": {
          "base_uri": "https://localhost:8080/"
        },
        "outputId": "4840db78-39c9-4525-a0e6-8576aa9035e6"
      },
      "outputs": [
        {
          "output_type": "stream",
          "name": "stdout",
          "text": [
            "Ano atual: 2023\n"
          ]
        }
      ],
      "source": [
        "print('Ano atual:', 2023)"
      ]
    },
    {
      "cell_type": "markdown",
      "source": [
        "## Aula 2 - Manipulando dados no Python"
      ],
      "metadata": {
        "id": "D9e3FqhO1S3X"
      }
    },
    {
      "cell_type": "markdown",
      "source": [
        "### Coleta e amostragem de dados"
      ],
      "metadata": {
        "id": "n6o7C1Ze2cRe"
      }
    },
    {
      "cell_type": "markdown",
      "source": [
        "#### Questão 1\n",
        "Crie um programa que solicite à pessoa usuária digitar seu nome, e imprima “Olá, [nome]!”."
      ],
      "metadata": {
        "id": "sRneWag9PV5Q"
      }
    },
    {
      "cell_type": "code",
      "source": [
        "nome = input('Insira o seu nome: ')\n",
        "print(f'Olá, {nome}!')"
      ],
      "metadata": {
        "id": "dbX1fKqy2HnE",
        "colab": {
          "base_uri": "https://localhost:8080/"
        },
        "outputId": "5f6776c1-fffa-4cdd-a7aa-3dc143e37105"
      },
      "execution_count": 2,
      "outputs": [
        {
          "output_type": "stream",
          "name": "stdout",
          "text": [
            "Insira o seu nome: Maria\n",
            "Olá, Maria!\n"
          ]
        }
      ]
    },
    {
      "cell_type": "markdown",
      "source": [
        "#### Questão 2\n",
        "Crie um programa que solicite à pessoa usuária digitar seu nome e idade, e imprima “Olá, [nome], você tem [idade] anos.”."
      ],
      "metadata": {
        "id": "BJ1SznEp70d5"
      }
    },
    {
      "cell_type": "code",
      "source": [
        "nome = input('Insira seu nome: ')\n",
        "idade = int(input('Insira sua idade: '))\n",
        "print(f'Olá, {nome}, você tem {idade} anos.')"
      ],
      "metadata": {
        "id": "jKz-0Sq8PFkp",
        "colab": {
          "base_uri": "https://localhost:8080/"
        },
        "outputId": "c5fae1bf-6475-4b28-d251-ab13bc2570ce"
      },
      "execution_count": 3,
      "outputs": [
        {
          "output_type": "stream",
          "name": "stdout",
          "text": [
            "Insira seu nome: Maria\n",
            "Insira sua idade: 22\n",
            "Olá, Maria, você tem 22 anos.\n"
          ]
        }
      ]
    },
    {
      "cell_type": "markdown",
      "source": [
        "#### Questão 3\n",
        "Crie um programa que solicite à pessoa usuária digitar seu nome, idade e altura em metros, e imprima “Olá, [nome], você tem [idade] anos e mede [altura] metros!”."
      ],
      "metadata": {
        "id": "2T0jNYZt70aa"
      }
    },
    {
      "cell_type": "code",
      "source": [
        "nome = input('Insira seu nome: ')\n",
        "idade = int(input('Insira sua idade: '))\n",
        "altura = float(input('Insira sua altura: '))\n",
        "print(f'Olá, {nome}, você tem {idade} anos e mede {altura} metros!')"
      ],
      "metadata": {
        "id": "pI4kHNzTPIXh",
        "colab": {
          "base_uri": "https://localhost:8080/"
        },
        "outputId": "0f31c138-e7d5-4126-e79a-fea47fb65fa6"
      },
      "execution_count": 4,
      "outputs": [
        {
          "output_type": "stream",
          "name": "stdout",
          "text": [
            "Insira seu nome: Maria\n",
            "Insira sua idade: 22\n",
            "Insira sua altura: 1.68\n",
            "Olá, Maria, você tem 22 anos e mede 1.68 metros!\n"
          ]
        }
      ]
    },
    {
      "cell_type": "markdown",
      "source": [
        "### Calculadora com operadores"
      ],
      "metadata": {
        "id": "mEBFwKkC70KP"
      }
    },
    {
      "cell_type": "markdown",
      "source": [
        "#### Questão 1\n",
        "\n",
        "Crie um programa que solicite dois valores numéricos à pessoa usuária e imprima a soma dos dois valores."
      ],
      "metadata": {
        "id": "H-IV1oAPPSqK"
      }
    },
    {
      "cell_type": "code",
      "source": [
        "v1 = int(input('Insira o primeiro valor: '))\n",
        "v2 = int(input('Insira o segundo valor: '))\n",
        "soma = v1 + v2\n",
        "\n",
        "print(f'Soma dos dois valores: {soma}')"
      ],
      "metadata": {
        "id": "Zb0W84sy8rnp",
        "colab": {
          "base_uri": "https://localhost:8080/"
        },
        "outputId": "d3b0b587-7bb7-496d-ecb2-a8ac86e24c94"
      },
      "execution_count": 5,
      "outputs": [
        {
          "output_type": "stream",
          "name": "stdout",
          "text": [
            "Insira o primeiro valor: 1\n",
            "Insira o segundo valor: 2\n",
            "Soma dos dois valores: 3\n"
          ]
        }
      ]
    },
    {
      "cell_type": "markdown",
      "source": [
        "#### Questão 2\n",
        "Crie um programa que solicite três valores numéricos à pessoa usuária e imprima a soma dos três valores."
      ],
      "metadata": {
        "id": "LUoi2MOu70Em"
      }
    },
    {
      "cell_type": "code",
      "source": [
        "v1 = int(input('Insira o primeiro valor: '))\n",
        "v2 = int(input('Insira o segundo valor: '))\n",
        "v3 = int(input('Insira o terceiro valor: '))\n",
        "soma = v1 + v2 + v3\n",
        "\n",
        "print(f'Soma dos três valores: {soma}')"
      ],
      "metadata": {
        "id": "4FYjWyBS8rDm",
        "colab": {
          "base_uri": "https://localhost:8080/"
        },
        "outputId": "cd710e77-65b2-4244-d6e9-1bbc70bd0060"
      },
      "execution_count": 7,
      "outputs": [
        {
          "output_type": "stream",
          "name": "stdout",
          "text": [
            "Insira o primeiro valor: 1\n",
            "Insira o segundo valor: 1\n",
            "Insira o terceiro valor: 1\n",
            "Soma dos três valores: 3\n"
          ]
        }
      ]
    },
    {
      "cell_type": "markdown",
      "source": [
        "#### Questão 3\n",
        "Crie um programa que solicite dois valores numéricos à pessoa usuária e imprima a subtração do primeiro pelo o segundo valor."
      ],
      "metadata": {
        "id": "lezGctF07z8i"
      }
    },
    {
      "cell_type": "code",
      "source": [
        "v1 = int(input('Insira o primeiro valor: '))\n",
        "v2 = int(input('Insira o segundo valor: '))\n",
        "subtracao = v1 - v2\n",
        "\n",
        "print(f'A subtração do primeiro valor pelo segundo é de: {subtracao}')"
      ],
      "metadata": {
        "id": "k0GE1z4w8p3J",
        "colab": {
          "base_uri": "https://localhost:8080/"
        },
        "outputId": "37d8fa74-a04a-4c59-a50e-07a27f509d68"
      },
      "execution_count": 9,
      "outputs": [
        {
          "output_type": "stream",
          "name": "stdout",
          "text": [
            "Insira o primeiro valor: 10\n",
            "Insira o segundo valor: 6\n",
            "A subtração do primeiro valor pelo segundo é de: 4\n"
          ]
        }
      ]
    },
    {
      "cell_type": "markdown",
      "source": [
        "#### Questão 4\n",
        "\n",
        "Crie um programa que solicite dois valores numéricos à pessoa usuária e imprima a multiplicação dos dois valores.\n"
      ],
      "metadata": {
        "id": "wwMP-dPU7zxW"
      }
    },
    {
      "cell_type": "code",
      "source": [
        "v1 = int(input('Insira o primeiro valor: '))\n",
        "v2 = int(input('Insira o segundo valor: '))\n",
        "multiplicacao = v1 * v2\n",
        "\n",
        "print(f'O resultado da multiplicação dos dois valores é de: {multiplicacao}')"
      ],
      "metadata": {
        "id": "GzFCVHfp8peZ",
        "colab": {
          "base_uri": "https://localhost:8080/"
        },
        "outputId": "da94b7ce-8b98-400b-d1ee-534f44671d5b"
      },
      "execution_count": 10,
      "outputs": [
        {
          "output_type": "stream",
          "name": "stdout",
          "text": [
            "Insira o primeiro valor: 5\n",
            "Insira o segundo valor: 2\n",
            "O resultado da multiplicação dos dois valores é de: 10\n"
          ]
        }
      ]
    },
    {
      "cell_type": "markdown",
      "source": [
        "#### Questão 5\n",
        "\n",
        "Crie um programa que solicite dois valores numéricos, um numerador e um denominador, e realize a divisão entre os dois valores. Deixe claro que o valor do denominador não pode ser `0`.\n"
      ],
      "metadata": {
        "id": "9kxyHxUo7zRD"
      }
    },
    {
      "cell_type": "code",
      "source": [
        "v1 = int(input('Insira o valor para o numerador da fração: '))\n",
        "v2 = int(input('Insira o valor para o denominador da fração. E não pode ser zero: '))\n",
        "divisao = v1 / v2\n",
        "\n",
        "print(f'O resultado da divisão é de {divisao}')"
      ],
      "metadata": {
        "id": "ytJ8l5KH8ozc",
        "colab": {
          "base_uri": "https://localhost:8080/"
        },
        "outputId": "bad8a90e-5206-4bb7-b6d2-a5b872afdbc1"
      },
      "execution_count": 11,
      "outputs": [
        {
          "output_type": "stream",
          "name": "stdout",
          "text": [
            "Insira o valor para o numerador da fração: 10\n",
            "Insira o valor para o denominador da fração. E não pode ser zero: 2\n",
            "O resultado da divisão é de 5.0\n"
          ]
        }
      ]
    },
    {
      "cell_type": "markdown",
      "source": [
        "#### Questão 6\n",
        "\n",
        "Crie um programa que solicite dois valores numéricos, um operador e uma potência, e realize a exponenciação entre esses dois valores.\n"
      ],
      "metadata": {
        "id": "zkUSBTQq8Hxt"
      }
    },
    {
      "cell_type": "code",
      "source": [
        "v1 = int(input('Insira aqui um número para ser o operador: '))\n",
        "v2 = int(input('Insira aqui um número para ser uma potência: '))\n",
        "exponenciacao = v1 ** v2\n",
        "\n",
        "print(f'O valor da exponenciação é de {exponenciacao}')"
      ],
      "metadata": {
        "id": "RPj36jq08oZp",
        "colab": {
          "base_uri": "https://localhost:8080/"
        },
        "outputId": "23d1dbe3-56d5-4a92-87fb-c77bc692e263"
      },
      "execution_count": 12,
      "outputs": [
        {
          "output_type": "stream",
          "name": "stdout",
          "text": [
            "Insira aqui um número para ser o operador: 2\n",
            "Insira aqui um número para ser uma potência: 3\n",
            "O valor da exponenciação é de 8\n"
          ]
        }
      ]
    },
    {
      "cell_type": "markdown",
      "source": [
        "#### Questão 7\n",
        "Crie um programa que solicite dois valores numéricos, um numerador e um denominador e realize a divisão inteira entre os dois valores. Deixe claro que o valor do denominador não pode ser `0`."
      ],
      "metadata": {
        "id": "yiunIusZ8Huj"
      }
    },
    {
      "cell_type": "code",
      "source": [
        "v1 = int(input('Insira o valor para o numerador da fração: '))\n",
        "v2 = int(input('Insira o valor para o denominador da fração. E não pode ser zero: '))\n",
        "divisao = v1 // v2\n",
        "\n",
        "print(f'O resultado da divisão é de {divisao}')"
      ],
      "metadata": {
        "id": "UHK8xITf8oCg",
        "colab": {
          "base_uri": "https://localhost:8080/"
        },
        "outputId": "d5afc9ee-9e5e-45dc-db51-b99dd11cd6f9"
      },
      "execution_count": 14,
      "outputs": [
        {
          "output_type": "stream",
          "name": "stdout",
          "text": [
            "Insira o valor para o numerador da fração: 100\n",
            "Insira o valor para o denominador da fração. E não pode ser zero: 3\n",
            "O resultado da divisão é de 33\n"
          ]
        }
      ]
    },
    {
      "cell_type": "markdown",
      "source": [
        "#### Questão 8\n",
        "\n",
        "Crie um programa que solicite dois valores numéricos, um numerador e um denominador, e retorne o resto da divisão entre os dois valores. Deixe claro que o valor do denominador não pode ser `0`."
      ],
      "metadata": {
        "id": "z_D_JiLX8Hra"
      }
    },
    {
      "cell_type": "code",
      "source": [
        "v1 = int(input('Insira o valor para o numerador da fração: '))\n",
        "v2 = int(input('Insira o valor para o denominador da fração. E não pode ser zero: '))\n",
        "divisao = v1 % v2\n",
        "\n",
        "print(f'O resto da divisão é de {divisao}')"
      ],
      "metadata": {
        "id": "EWGJeukO8nqx",
        "colab": {
          "base_uri": "https://localhost:8080/"
        },
        "outputId": "90eec1e7-411c-473d-d6f1-dda6c8bb3c08"
      },
      "execution_count": 16,
      "outputs": [
        {
          "output_type": "stream",
          "name": "stdout",
          "text": [
            "Insira o valor para o numerador da fração: 100\n",
            "Insira o valor para o denominador da fração. E não pode ser zero: 6\n",
            "O resto da divisão é de 4\n"
          ]
        }
      ]
    },
    {
      "cell_type": "markdown",
      "source": [
        "#### Questão 9\n",
        "\n",
        "Crie um código que solicita 3 notas de um estudante e imprima a média das notas."
      ],
      "metadata": {
        "id": "RDRajNkU8N8N"
      }
    },
    {
      "cell_type": "code",
      "source": [
        "n1 = float(input('Insira a primeira nota: '))\n",
        "n2 = float(input('Insira a segunda nota: '))\n",
        "n3 = float(input('Insira a terceira nota: '))\n",
        "media = (n1 + n2 + n3) / 3\n",
        "\n",
        "print(f'A média das notas é {media}')"
      ],
      "metadata": {
        "id": "H6F4Ojzt8nSR",
        "colab": {
          "base_uri": "https://localhost:8080/"
        },
        "outputId": "0bb6278a-05db-42e4-8797-0d227423b593"
      },
      "execution_count": 17,
      "outputs": [
        {
          "output_type": "stream",
          "name": "stdout",
          "text": [
            "Insira a primeira nota: 8.6\n",
            "Insira a segunda nota: 9.9\n",
            "Insira a terceira nota: 7.0\n",
            "A média das notas é 8.5\n"
          ]
        }
      ]
    },
    {
      "cell_type": "markdown",
      "source": [
        "#### Questão 10\n",
        "\n",
        "Crie um código que calcule e imprima a média ponderada dos números 5, 12, 20 e 15 com pesos respectivamente iguais a 1, 2, 3 e 4."
      ],
      "metadata": {
        "id": "d7fjkne58N21"
      }
    },
    {
      "cell_type": "code",
      "source": [
        "v1 = 5\n",
        "v2 = 12\n",
        "v3 = 20\n",
        "v4 = 15\n",
        "\n",
        "media_ponderada = ((v1*1) + (v2*2) + (v3*3) + (v4*4)) / (1 + 2 + 3 + 4)\n",
        "print(f'A média ponderada dos valores é {media_ponderada}')"
      ],
      "metadata": {
        "id": "fwjoHlV48mkv",
        "colab": {
          "base_uri": "https://localhost:8080/"
        },
        "outputId": "a25abde6-c07f-4fd8-b496-750fd54cb281"
      },
      "execution_count": 20,
      "outputs": [
        {
          "output_type": "stream",
          "name": "stdout",
          "text": [
            "A média ponderada dos valores é 14.9\n"
          ]
        }
      ]
    },
    {
      "cell_type": "markdown",
      "source": [
        "### Editando textos"
      ],
      "metadata": {
        "id": "GNmbX1OU8N0V"
      }
    },
    {
      "cell_type": "markdown",
      "source": [
        "#### Questão 1\n",
        "\n",
        "Crie uma variável chamada “`frase`” e atribua a ela uma string de sua escolha. Em seguida, imprima a frase na tela."
      ],
      "metadata": {
        "id": "6wZ85mCsRCV0"
      }
    },
    {
      "cell_type": "code",
      "source": [
        "frase = 'Gatos são soberania mundial!'\n",
        "print(frase)"
      ],
      "metadata": {
        "id": "eRqr_gh-8mFy",
        "colab": {
          "base_uri": "https://localhost:8080/"
        },
        "outputId": "c3bc44b2-40e5-4d80-d1b3-8ad94adb57a2"
      },
      "execution_count": 21,
      "outputs": [
        {
          "output_type": "stream",
          "name": "stdout",
          "text": [
            "Gatos são soberania mundial!\n"
          ]
        }
      ]
    },
    {
      "cell_type": "markdown",
      "source": [
        "#### Questão 2\n",
        "Crie um código que solicite uma frase e depois imprima a frase na tela."
      ],
      "metadata": {
        "id": "Aac17z-18Nwv"
      }
    },
    {
      "cell_type": "code",
      "source": [
        "frase = input('Insira uma frase aqui: ')\n",
        "print(f'{frase}')"
      ],
      "metadata": {
        "id": "8zfE2hh98lb0",
        "colab": {
          "base_uri": "https://localhost:8080/"
        },
        "outputId": "09e2510f-e98d-4c49-f576-9c56acdb04a9"
      },
      "execution_count": 22,
      "outputs": [
        {
          "output_type": "stream",
          "name": "stdout",
          "text": [
            "Insira uma frase aqui: oiiiiii\n",
            "oiiiiii\n"
          ]
        }
      ]
    },
    {
      "cell_type": "markdown",
      "source": [
        "#### Questão 3\n",
        "\n",
        "Crie um código que solicite uma frase à pessoa usuária e imprima a mesma frase digitada mas com todas as letras maiúsculas."
      ],
      "metadata": {
        "id": "DXVzqpN58Ntr"
      }
    },
    {
      "cell_type": "code",
      "source": [
        "frase = input('Insira uma frase aqui: ')\n",
        "frase = frase.upper()\n",
        "\n",
        "print(f'{frase}')"
      ],
      "metadata": {
        "id": "d0VzoYP68k-I",
        "colab": {
          "base_uri": "https://localhost:8080/"
        },
        "outputId": "16124406-9b8e-4e67-cf24-1a87033043b2"
      },
      "execution_count": 25,
      "outputs": [
        {
          "output_type": "stream",
          "name": "stdout",
          "text": [
            "Insira uma frase aqui: oiiii\n",
            "OIIII\n"
          ]
        }
      ]
    },
    {
      "cell_type": "markdown",
      "source": [
        "#### Questão 4\n",
        "\n",
        "Crie um código que solicite uma frase à pessoa usuária e imprima a mesma frase digitada mas com todas as letras minúsculas."
      ],
      "metadata": {
        "id": "I12VeNPK8Nqb"
      }
    },
    {
      "cell_type": "code",
      "source": [
        "frase = input('Insira uma frase aqui: ')\n",
        "frase = frase.lower()\n",
        "\n",
        "print(f'{frase}')"
      ],
      "metadata": {
        "id": "KD8rNy2K8kox",
        "colab": {
          "base_uri": "https://localhost:8080/"
        },
        "outputId": "497a908e-2577-467c-8559-5dc3a1c45dc4"
      },
      "execution_count": 26,
      "outputs": [
        {
          "output_type": "stream",
          "name": "stdout",
          "text": [
            "Insira uma frase aqui: Oi! Tudo bem?\n",
            "oi! tudo bem?\n"
          ]
        }
      ]
    },
    {
      "cell_type": "markdown",
      "source": [
        "#### Questão 5\n",
        "\n",
        "Crie uma variável chamada “`frase`” e atribua a ela uma string de sua escolha. Em seguida, imprima a frase sem espaços em branco no início e no fim."
      ],
      "metadata": {
        "id": "cRqngSE48Nog"
      }
    },
    {
      "cell_type": "code",
      "source": [
        "frase = ' Frase com espaços no início e final vai virar sem espaços '\n",
        "frase = frase.strip()\n",
        "\n",
        "print(f'{frase}')"
      ],
      "metadata": {
        "id": "aSCpdF-o8kBs",
        "colab": {
          "base_uri": "https://localhost:8080/"
        },
        "outputId": "80f218f1-a1fe-4a68-db36-b3a1c94f8921"
      },
      "execution_count": 29,
      "outputs": [
        {
          "output_type": "stream",
          "name": "stdout",
          "text": [
            "Frase com espaços no início e final vai virar sem espaços\n"
          ]
        }
      ]
    },
    {
      "cell_type": "markdown",
      "source": [
        "#### Questão 6\n",
        "\n",
        "Crie um código que solicite uma frase à pessoa usuária e imprima a mesma frase sem espaços em branco no início e no fim."
      ],
      "metadata": {
        "id": "murIazpQ8Nkv"
      }
    },
    {
      "cell_type": "code",
      "source": [
        "frase = input('Por favor, insira uma frase com espaços no início e no fim: ')\n",
        "frase = frase.strip()\n",
        "\n",
        "print(f'{frase}')"
      ],
      "metadata": {
        "id": "tHunjwuG8jNq",
        "colab": {
          "base_uri": "https://localhost:8080/"
        },
        "outputId": "ef924fd9-928b-4dcd-d024-aa9743fc20a0"
      },
      "execution_count": 30,
      "outputs": [
        {
          "output_type": "stream",
          "name": "stdout",
          "text": [
            "Por favor, insira uma frase com espaços no início e no fim:  teste \n",
            "teste\n"
          ]
        }
      ]
    },
    {
      "cell_type": "markdown",
      "source": [
        "#### Questão 7\n",
        "\n",
        "\n",
        "Crie um código que solicite uma frase à pessoa usuária e imprima a mesma frase sem espaços em branco no início e no fim e em letras minúsculas."
      ],
      "metadata": {
        "id": "eRxc2OeX8Nh2"
      }
    },
    {
      "cell_type": "code",
      "source": [
        "frase = input('Insira a sua frase aqui: ')\n",
        "frase = frase.strip().lower()\n",
        "\n",
        "print(f'{frase}')"
      ],
      "metadata": {
        "id": "DYm0_UwS8ih6",
        "colab": {
          "base_uri": "https://localhost:8080/"
        },
        "outputId": "1ac168fc-e17e-4f6a-9c84-8090ada188c3"
      },
      "execution_count": 32,
      "outputs": [
        {
          "output_type": "stream",
          "name": "stdout",
          "text": [
            "Insira a sua frase aqui:  Testando Apenas Ok \n",
            "testando apenas ok\n"
          ]
        }
      ]
    },
    {
      "cell_type": "markdown",
      "source": [
        "#### Questão 8\n",
        "\n",
        "Crie um código que solicite uma frase à pessoa usuária e imprima a mesma frase com todas as vogais “`e`” trocadas pela letra “`f`”."
      ],
      "metadata": {
        "id": "UKATLavs8NfI"
      }
    },
    {
      "cell_type": "code",
      "source": [
        "frase = input('Por favor, insira uma frase aqui: ')\n",
        "frase = frase.replace('e', 'f')\n",
        "\n",
        "print(f'{frase}')"
      ],
      "metadata": {
        "id": "k64C5G5S8iLO",
        "colab": {
          "base_uri": "https://localhost:8080/"
        },
        "outputId": "81973e8e-194c-4d62-ce96-cf63d377da22"
      },
      "execution_count": 33,
      "outputs": [
        {
          "output_type": "stream",
          "name": "stdout",
          "text": [
            "Por favor, insira uma frase aqui: testando apenas\n",
            "tfstando apfnas\n"
          ]
        }
      ]
    },
    {
      "cell_type": "markdown",
      "source": [
        "#### Questão 9\n",
        "\n",
        "\n",
        "Crie um código que solicite uma frase à pessoa usuária e imprima a mesma frase com todas as vogais “`a`” trocadas pela caractere  “`@`”."
      ],
      "metadata": {
        "id": "n_1SPchw8NdG"
      }
    },
    {
      "cell_type": "code",
      "source": [
        "frase = input('Por favor, insira uma frase aqui: ')\n",
        "frase = frase.replace('a', '@')\n",
        "\n",
        "print(f'{frase}')"
      ],
      "metadata": {
        "id": "msaDNm_p8h0D",
        "colab": {
          "base_uri": "https://localhost:8080/"
        },
        "outputId": "29708097-bb6e-4c74-afac-96675d6bfbd4"
      },
      "execution_count": 35,
      "outputs": [
        {
          "output_type": "stream",
          "name": "stdout",
          "text": [
            "Por favor, insira uma frase aqui: dominação mundial felina\n",
            "domin@ção mundi@l felin@\n"
          ]
        }
      ]
    },
    {
      "cell_type": "markdown",
      "source": [
        "#### Questão 10\n",
        "\n",
        "\n",
        "Crie um código que solicite uma frase à pessoa usuária e imprima a mesma frase com todas as consoantes “`s`” trocadas pelo caractere  “`$`”."
      ],
      "metadata": {
        "id": "H3sTTjqI8Naa"
      }
    },
    {
      "cell_type": "code",
      "source": [
        "frase = input('Por favor, insira uma frase aqui: ')\n",
        "frase = frase.replace('s', '$')\n",
        "\n",
        "print(f'{frase}')"
      ],
      "metadata": {
        "id": "RPBIsWT68e-1",
        "colab": {
          "base_uri": "https://localhost:8080/"
        },
        "outputId": "2626bc50-04d8-4dfd-9fea-9b5982049b3c"
      },
      "execution_count": 36,
      "outputs": [
        {
          "output_type": "stream",
          "name": "stdout",
          "text": [
            "Por favor, insira uma frase aqui: Gosto de jogar Tetris.\n",
            "Go$to de jogar Tetri$.\n"
          ]
        }
      ]
    },
    {
      "cell_type": "markdown",
      "source": [
        "## Aula 3 - Estruturas condicionais"
      ],
      "metadata": {
        "id": "XGePe4GD2I59"
      }
    },
    {
      "cell_type": "markdown",
      "source": [
        "### Aquecendo na programação"
      ],
      "metadata": {
        "id": "Pr9HTW0UHCdD"
      }
    },
    {
      "cell_type": "markdown",
      "source": [
        "#### Questão 1\n",
        "Escreva um programa que peça à pessoa usuária para fornecer dois números e exibir o número maior."
      ],
      "metadata": {
        "id": "xBZHqhVg80Fy"
      }
    },
    {
      "cell_type": "code",
      "source": [
        "n1 = int(input('Insira o primeiro número: '))\n",
        "n2 = int(input('Insira o segundo número: '))\n",
        "\n",
        "if n1 > n2:\n",
        "  print(f'O maior número é o {n1}.')\n",
        "else:\n",
        "  print(f'O maior número é o {n2}.')"
      ],
      "metadata": {
        "id": "GJlGnzjc-xyF",
        "colab": {
          "base_uri": "https://localhost:8080/"
        },
        "outputId": "55be9629-517c-42c8-abbf-694c714e3a1f"
      },
      "execution_count": 38,
      "outputs": [
        {
          "output_type": "stream",
          "name": "stdout",
          "text": [
            "Insira o primeiro número: 5\n",
            "Insira o segundo número: 3\n",
            "O maior número é o 5.\n"
          ]
        }
      ]
    },
    {
      "cell_type": "markdown",
      "source": [
        "#### Questão 2\n",
        "Escreva um programa que solicite o percentual de crescimento de produção de uma empresa e informe se houve um crescimento (porcentagem positiva) ou decrescimento (porcentagem negativa)."
      ],
      "metadata": {
        "id": "H4sgN7dyHNJF"
      }
    },
    {
      "cell_type": "code",
      "source": [
        "variacao = float(input('Insira o percentual de crescimento de produção: '))\n",
        "\n",
        "if variacao > 0:\n",
        "  print(f'Houve uma variação positiva de {variacao}%')\n",
        "if variacao < 0:\n",
        "  print(f'Houve uma variação negativa de {variacao}%')\n",
        "else:\n",
        "  print(f'Não houve variação')"
      ],
      "metadata": {
        "id": "-2_Ry5XJ-yZW",
        "colab": {
          "base_uri": "https://localhost:8080/"
        },
        "outputId": "8d4145de-3439-4609-b803-2e894ed78239"
      },
      "execution_count": 49,
      "outputs": [
        {
          "output_type": "stream",
          "name": "stdout",
          "text": [
            "Insira o percentual de crescimento de produção: 0\n",
            "Não houve variação\n"
          ]
        }
      ]
    },
    {
      "cell_type": "markdown",
      "source": [
        "#### Questão 3\n",
        "Escreva um programa que determine se uma letra fornecida pela pessoa usuária é uma vogal ou consoante."
      ],
      "metadata": {
        "id": "a_mzNOBDHNny"
      }
    },
    {
      "cell_type": "code",
      "source": [
        "letra = input('Insira uma letra: ').lower()\n",
        "vogais = 'aeiou'\n",
        "\n",
        "if letra in vogais:\n",
        "  print(f'A letra é uma vogal.')\n",
        "else:\n",
        "  print(f'A letra é uma consoante.')"
      ],
      "metadata": {
        "id": "NbgndVyg-zFJ",
        "colab": {
          "base_uri": "https://localhost:8080/"
        },
        "outputId": "42c8b5bf-49fe-4be6-8f14-aec122d39766"
      },
      "execution_count": 46,
      "outputs": [
        {
          "output_type": "stream",
          "name": "stdout",
          "text": [
            "Insira uma letra: y\n",
            "A letra é uma consoante.\n"
          ]
        }
      ]
    },
    {
      "cell_type": "markdown",
      "source": [
        "#### Questão 4\n",
        "Escreva um programa que leia valores médios de preços de um modelo de carro por 3 anos consecutivos e exiba o valor mais alto e mais baixo entre esses três anos."
      ],
      "metadata": {
        "id": "mofMRjSZHP99"
      }
    },
    {
      "cell_type": "code",
      "source": [
        "v1 = float(input('Insira o primeiro preço médio: '))\n",
        "v2 = float(input('Insira o segundo preço médio: '))\n",
        "v3 = float(input('Insira o terceiro preço médio: '))\n",
        "\n",
        "maior = preco_ano1\n",
        "if preco_ano2 > maior:\n",
        "  maior = preco_ano2\n",
        "if preco_ano3 > maior:\n",
        "  maior = preco_ano3\n",
        "\n",
        "menor = preco_ano1\n",
        "if preco_ano2 < menor:\n",
        "  menor = preco_ano2\n",
        "if preco_ano3 < menor:\n",
        "  menor = preco_ano3\n",
        "\n",
        "print(f'O preço mais alto foi de R$ {maior}.')\n",
        "print(f'O preço mais baixo foi de R$ {menor}.')"
      ],
      "metadata": {
        "id": "TX--d3k9-02c",
        "colab": {
          "base_uri": "https://localhost:8080/",
          "height": 390
        },
        "outputId": "17dd0243-1493-4c6c-f040-69330130f9bb"
      },
      "execution_count": 50,
      "outputs": [
        {
          "output_type": "error",
          "ename": "KeyboardInterrupt",
          "evalue": "ignored",
          "traceback": [
            "\u001b[0;31m---------------------------------------------------------------------------\u001b[0m",
            "\u001b[0;31mKeyboardInterrupt\u001b[0m                         Traceback (most recent call last)",
            "\u001b[0;32m<ipython-input-50-8f863e7d6f4e>\u001b[0m in \u001b[0;36m<cell line: 1>\u001b[0;34m()\u001b[0m\n\u001b[0;32m----> 1\u001b[0;31m \u001b[0mv1\u001b[0m \u001b[0;34m=\u001b[0m \u001b[0mfloat\u001b[0m\u001b[0;34m(\u001b[0m\u001b[0minput\u001b[0m\u001b[0;34m(\u001b[0m\u001b[0;34m'Insira o primeiro preço médio: '\u001b[0m\u001b[0;34m)\u001b[0m\u001b[0;34m)\u001b[0m\u001b[0;34m\u001b[0m\u001b[0;34m\u001b[0m\u001b[0m\n\u001b[0m\u001b[1;32m      2\u001b[0m \u001b[0mv2\u001b[0m \u001b[0;34m=\u001b[0m \u001b[0mfloat\u001b[0m\u001b[0;34m(\u001b[0m\u001b[0minput\u001b[0m\u001b[0;34m(\u001b[0m\u001b[0;34m'Insira o segundo preço médio: '\u001b[0m\u001b[0;34m)\u001b[0m\u001b[0;34m)\u001b[0m\u001b[0;34m\u001b[0m\u001b[0;34m\u001b[0m\u001b[0m\n\u001b[1;32m      3\u001b[0m \u001b[0mv3\u001b[0m \u001b[0;34m=\u001b[0m \u001b[0mfloat\u001b[0m\u001b[0;34m(\u001b[0m\u001b[0minput\u001b[0m\u001b[0;34m(\u001b[0m\u001b[0;34m'Insira o terceiro preço médio: '\u001b[0m\u001b[0;34m)\u001b[0m\u001b[0;34m)\u001b[0m\u001b[0;34m\u001b[0m\u001b[0;34m\u001b[0m\u001b[0m\n\u001b[1;32m      4\u001b[0m \u001b[0;34m\u001b[0m\u001b[0m\n\u001b[1;32m      5\u001b[0m \u001b[0mmaior\u001b[0m \u001b[0;34m=\u001b[0m \u001b[0mpreco_ano1\u001b[0m\u001b[0;34m\u001b[0m\u001b[0;34m\u001b[0m\u001b[0m\n",
            "\u001b[0;32m/usr/local/lib/python3.10/dist-packages/ipykernel/kernelbase.py\u001b[0m in \u001b[0;36mraw_input\u001b[0;34m(self, prompt)\u001b[0m\n\u001b[1;32m    849\u001b[0m                 \u001b[0;34m\"raw_input was called, but this frontend does not support input requests.\"\u001b[0m\u001b[0;34m\u001b[0m\u001b[0;34m\u001b[0m\u001b[0m\n\u001b[1;32m    850\u001b[0m             )\n\u001b[0;32m--> 851\u001b[0;31m         return self._input_request(str(prompt),\n\u001b[0m\u001b[1;32m    852\u001b[0m             \u001b[0mself\u001b[0m\u001b[0;34m.\u001b[0m\u001b[0m_parent_ident\u001b[0m\u001b[0;34m,\u001b[0m\u001b[0;34m\u001b[0m\u001b[0;34m\u001b[0m\u001b[0m\n\u001b[1;32m    853\u001b[0m             \u001b[0mself\u001b[0m\u001b[0;34m.\u001b[0m\u001b[0m_parent_header\u001b[0m\u001b[0;34m,\u001b[0m\u001b[0;34m\u001b[0m\u001b[0;34m\u001b[0m\u001b[0m\n",
            "\u001b[0;32m/usr/local/lib/python3.10/dist-packages/ipykernel/kernelbase.py\u001b[0m in \u001b[0;36m_input_request\u001b[0;34m(self, prompt, ident, parent, password)\u001b[0m\n\u001b[1;32m    893\u001b[0m             \u001b[0;32mexcept\u001b[0m \u001b[0mKeyboardInterrupt\u001b[0m\u001b[0;34m:\u001b[0m\u001b[0;34m\u001b[0m\u001b[0;34m\u001b[0m\u001b[0m\n\u001b[1;32m    894\u001b[0m                 \u001b[0;31m# re-raise KeyboardInterrupt, to truncate traceback\u001b[0m\u001b[0;34m\u001b[0m\u001b[0;34m\u001b[0m\u001b[0m\n\u001b[0;32m--> 895\u001b[0;31m                 \u001b[0;32mraise\u001b[0m \u001b[0mKeyboardInterrupt\u001b[0m\u001b[0;34m(\u001b[0m\u001b[0;34m\"Interrupted by user\"\u001b[0m\u001b[0;34m)\u001b[0m \u001b[0;32mfrom\u001b[0m \u001b[0;32mNone\u001b[0m\u001b[0;34m\u001b[0m\u001b[0;34m\u001b[0m\u001b[0m\n\u001b[0m\u001b[1;32m    896\u001b[0m             \u001b[0;32mexcept\u001b[0m \u001b[0mException\u001b[0m \u001b[0;32mas\u001b[0m \u001b[0me\u001b[0m\u001b[0;34m:\u001b[0m\u001b[0;34m\u001b[0m\u001b[0;34m\u001b[0m\u001b[0m\n\u001b[1;32m    897\u001b[0m                 \u001b[0mself\u001b[0m\u001b[0;34m.\u001b[0m\u001b[0mlog\u001b[0m\u001b[0;34m.\u001b[0m\u001b[0mwarning\u001b[0m\u001b[0;34m(\u001b[0m\u001b[0;34m\"Invalid Message:\"\u001b[0m\u001b[0;34m,\u001b[0m \u001b[0mexc_info\u001b[0m\u001b[0;34m=\u001b[0m\u001b[0;32mTrue\u001b[0m\u001b[0;34m)\u001b[0m\u001b[0;34m\u001b[0m\u001b[0;34m\u001b[0m\u001b[0m\n",
            "\u001b[0;31mKeyboardInterrupt\u001b[0m: Interrupted by user"
          ]
        }
      ]
    },
    {
      "cell_type": "markdown",
      "source": [
        "#### Questão 5\n",
        "Escreva um programa que pergunte sobre o preço de três produtos e indique qual é o produto mais barato para comprar."
      ],
      "metadata": {
        "id": "jY5tIwd-HQzc"
      }
    },
    {
      "cell_type": "code",
      "source": [
        "produto1 = float(input('Insira o preço do primeiro produto: '))\n",
        "produto2 = float(input('Insira o preço do segundo produto: '))\n",
        "produto3 = float(input('Insira o preço do terceiro produto: '))\n",
        "\n",
        "if produto1 < produto2 and produto1 < produto3:\n",
        "    print('O primeiro produto é o mais barato.')\n",
        "\n",
        "elif produto2 < produto1 and produto2 < produto3:\n",
        "    print('O segundo produto é o mais barato.')\n",
        "\n",
        "else:\n",
        "    print('O terceiro produto é o mais barato.')"
      ],
      "metadata": {
        "id": "sYqNh9df-0gk",
        "colab": {
          "base_uri": "https://localhost:8080/"
        },
        "outputId": "addf2aeb-4f97-41e5-8989-853256013c73"
      },
      "execution_count": 55,
      "outputs": [
        {
          "output_type": "stream",
          "name": "stdout",
          "text": [
            "Insira o preço do primeiro produto: 1.68\n",
            "Insira o preço do segundo produto: .65\n",
            "Insira o preço do terceiro produto: 1.55\n",
            "O segundo produto é o mais barato.\n"
          ]
        }
      ]
    },
    {
      "cell_type": "markdown",
      "source": [
        "#### Questão 6\n",
        "Escreva um programa que leia três números e os exiba em ordem decrescente."
      ],
      "metadata": {
        "id": "1r6aVxtTHR4E"
      }
    },
    {
      "cell_type": "code",
      "source": [
        "num1 = int(input('Informe o primeiro número: '))\n",
        "num2 = int(input('Informe o segundo número: '))\n",
        "num3 = int(input('Informe o terceiro número: '))\n",
        "\n",
        "if (num1 >= num2) and (num1 >= num3):\n",
        "    print(num1)\n",
        "    if num2 >= num3:\n",
        "        print(num2)\n",
        "        print(num3)\n",
        "    else:\n",
        "        print(num3)\n",
        "        print(num2)\n",
        "\n",
        "elif (num2 >= num1) and (num2 >= num3):\n",
        "    print(num2)\n",
        "    if num1 >= num3:\n",
        "        print(num1)\n",
        "        print(num3)\n",
        "    else:\n",
        "        print(num3)\n",
        "        print(num1)\n",
        "\n",
        "else:\n",
        "    print(num3)\n",
        "    if num1 >= num2:\n",
        "        print(num1)\n",
        "        print(num2)\n",
        "    else:\n",
        "        print(num2)\n",
        "        print(num1)"
      ],
      "metadata": {
        "id": "ydOCYUMO-0Hk",
        "colab": {
          "base_uri": "https://localhost:8080/"
        },
        "outputId": "4358a6d4-a3cf-4db5-ac33-ce534aa8e459"
      },
      "execution_count": 56,
      "outputs": [
        {
          "output_type": "stream",
          "name": "stdout",
          "text": [
            "Informe o primeiro número: 8\n",
            "Informe o segundo número: 3\n",
            "Informe o terceiro número: 0\n",
            "8\n",
            "3\n",
            "0\n"
          ]
        }
      ]
    },
    {
      "cell_type": "markdown",
      "source": [
        "#### Questão 7\n",
        "Escreva um programa que pergunte em qual turno a pessoa usuária estuda (\"manhã\", \"tarde\" ou \"noite\") e exiba a mensagem \"Bom Dia!\", \"Boa Tarde!\", \"Boa Noite!\", ou \"Valor Inválido!\", conforme o caso."
      ],
      "metadata": {
        "id": "inW3F-hAHS_X"
      }
    },
    {
      "cell_type": "code",
      "source": [
        "turno = input('Qual turno você estuda? Manhã, tarde ou noite? ').lower()\n",
        "\n",
        "if turno == 'manhã':\n",
        "  print(f'Bom dia!')\n",
        "\n",
        "elif turno == 'tarde':\n",
        "  print(f'Boa tarde!')\n",
        "\n",
        "elif turno == 'noite':\n",
        "  print(f'Boa noite!')\n",
        "\n",
        "else:\n",
        "  print(f'Valor inválido!')"
      ],
      "metadata": {
        "id": "-_q-Pcr_-zth",
        "colab": {
          "base_uri": "https://localhost:8080/"
        },
        "outputId": "845efc3e-e407-467b-b776-dade6ac0fdea"
      },
      "execution_count": 61,
      "outputs": [
        {
          "output_type": "stream",
          "name": "stdout",
          "text": [
            "Qual turno você estuda? Manhã, tarde ou noite? blabla\n",
            "Valor inválido!\n"
          ]
        }
      ]
    },
    {
      "cell_type": "markdown",
      "source": [
        "#### Questão 8\n",
        "Escreva um programa que peça um número inteiro à pessoa usuária e determine se ele é par ou ímpar. Dica: Você pode utilizar o operador módulo `%`."
      ],
      "metadata": {
        "id": "NCCPF3QqHTw-"
      }
    },
    {
      "cell_type": "code",
      "source": [
        "numero = int(input('Insira um número inteiro: '))\n",
        "\n",
        "if numero % 2 == 0:\n",
        "  print(f'Seu número é par.')\n",
        "\n",
        "else:\n",
        "  print(f'Seu número é ímpar.')"
      ],
      "metadata": {
        "id": "OmZJt1nQ-3e6",
        "colab": {
          "base_uri": "https://localhost:8080/"
        },
        "outputId": "1a59adf6-cb7d-4a8e-e43e-9162c4bb5a05"
      },
      "execution_count": 64,
      "outputs": [
        {
          "output_type": "stream",
          "name": "stdout",
          "text": [
            "Insira um número inteiro: 7\n",
            "Seu número é ímpar.\n"
          ]
        }
      ]
    },
    {
      "cell_type": "markdown",
      "source": [
        "#### Questão 9\n",
        "Escreva um programa que peça um número à pessoa usuária e informe se ele é inteiro ou decimal."
      ],
      "metadata": {
        "id": "h93Ck1tQHUwE"
      }
    },
    {
      "cell_type": "code",
      "source": [
        "numero = float(input('Insira um número. Pode ser inteiro ou decimal: '))\n",
        "\n",
        "if numero % 1 == 0:\n",
        "  print(f'É um número inteiro.')\n",
        "\n",
        "else:\n",
        "  print(f'É um número decimal.')"
      ],
      "metadata": {
        "id": "sLMlZcx8-20N",
        "colab": {
          "base_uri": "https://localhost:8080/"
        },
        "outputId": "b0186223-09dd-47b7-dd50-45212f2a690a"
      },
      "execution_count": 66,
      "outputs": [
        {
          "output_type": "stream",
          "name": "stdout",
          "text": [
            "Insira um número. Pode ser inteiro ou decimal: 6.9\n",
            "É um número decimal.\n"
          ]
        }
      ]
    },
    {
      "cell_type": "markdown",
      "source": [
        "### Momento dos projetos"
      ],
      "metadata": {
        "id": "bKdXSK1SH_pF"
      }
    },
    {
      "cell_type": "markdown",
      "source": [
        "#### Questão 10\n",
        "Um programa deve ser escrito para ler dois números e, em seguida, perguntar à pessoa usuária qual operação ele deseja realizar. O resultado da operação deve incluir informações sobre o número - se é par ou ímpar, positivo ou negativo e inteiro ou decimal."
      ],
      "metadata": {
        "id": "WBlEyyzsHV86"
      }
    },
    {
      "cell_type": "code",
      "source": [
        "num1 = float(input('Insira o primeiro número: '))\n",
        "num2 = float(input('Insira o segundo número: '))\n",
        "operacao = input('Insira a operação que você quer que aconteça (+, -, *, /): ')\n",
        "\n",
        "if operacao == '+':\n",
        "  resultado = num1 + num2\n",
        "elif operacao == '-':\n",
        "  resultado = num1 - num2\n",
        "elif operacao == '*':\n",
        "  resultado = num1 * num2\n",
        "elif operacao == '/':\n",
        "  resultado = num1 / num2\n",
        "else:\n",
        "  print('Operação inválida, resultado da operação será 0')\n",
        "  resultado = 0\n",
        "\n",
        "if resultado % 1 == 0:\n",
        "    print('O resultado é inteiro.')\n",
        "else:\n",
        "    print('O resultado é decimal.')\n",
        "\n",
        "if resultado > 0:\n",
        "    print('O resultado é positivo.')\n",
        "else:\n",
        "    print('O resultado é negativo.')\n",
        "\n",
        "if resultado % 2 == 0:\n",
        "    print('O resultado é par.')\n",
        "else:\n",
        "    print('O resultado é ímpar.')"
      ],
      "metadata": {
        "id": "3jmahZ0f-2gq"
      },
      "execution_count": null,
      "outputs": []
    },
    {
      "cell_type": "markdown",
      "source": [
        "#### Questão 11\n",
        "Escreva um programa que peça à pessoa usuária três números que representam os lados de um triângulo. O programa deve informar se os valores podem ser utilizados para formar um triângulo e, caso afirmativo, se ele é equilátero, isósceles ou escaleno. Tenha em mente algumas dicas:\n",
        "- Três lados formam um triângulo quando a soma de quaisquer dois lados for maior que o terceiro;\n",
        "- Triângulo Equilátero: três lados iguais;\n",
        "- Triângulo Isósceles: quaisquer dois lados iguais;\n",
        "- Triângulo Escaleno: três lados diferentes;\n"
      ],
      "metadata": {
        "id": "VdnlULxHHW19"
      }
    },
    {
      "cell_type": "code",
      "source": [
        "lado1 = float(input('Digite o comprimento do primeiro lado: '))\n",
        "lado2 = float(input('Digite o comprimento do segundo lado: '))\n",
        "lado3 = float(input('Digite o comprimento do terceiro lado: '))\n",
        "\n",
        "if (lado1 + lado2 > lado3) and (lado2 + lado3 > lado1) and (lado1 + lado3 > lado2):\n",
        "    print('Os valores podem formar um triângulo.')\n",
        "    if (lado1 == lado2) and (lado2 == lado3):\n",
        "        print('O triângulo é equilátero.')\n",
        "    elif (lado1 != lado2) and (lado2 != lado3) and (lado1 != lado3):\n",
        "        print('O triângulo é escaleno.')\n",
        "    else:\n",
        "        print('O triângulo é isósceles.')\n",
        "else:\n",
        "    print('Os valores não podem formar um triângulo!')"
      ],
      "metadata": {
        "id": "0z73sqUO-2Pw",
        "colab": {
          "base_uri": "https://localhost:8080/"
        },
        "outputId": "9e415fc6-686d-431b-eb64-e90b816acdf9"
      },
      "execution_count": 67,
      "outputs": [
        {
          "output_type": "stream",
          "name": "stdout",
          "text": [
            "Digite o comprimento do primeiro lado: 4\n",
            "Digite o comprimento do segundo lado: 5\n",
            "Digite o comprimento do terceiro lado: 6\n",
            "Os valores podem formar um triângulo.\n",
            "O triângulo é escaleno.\n"
          ]
        }
      ]
    },
    {
      "cell_type": "markdown",
      "source": [
        "#### Questão 12\n",
        "Um estabelecimento está vendendo combustíveis com descontos variados. Para o etanol, se a quantidade comprada for até 15 litros, o desconto será de 2% por litro. Caso contrário, será de 4% por litro. Para o diesel, se a quantidade comprada for até 15 litros, o desconto será de 3% por litro. Caso contrário, será de 5% por litro. O preço do litro de diesel é R\\$ 2,00 e o preço do litro de etanol é R\\$ 1,70. Escreva um programa que leia a quantidade de litros vendidos e o tipo de combustível (E para etanol e D para diesel) e calcule o valor a ser pago pelo cliente. Tenha em mente algumas dicas:\n",
        "\n",
        "- O do valor do desconto será a multiplicação entre preço do litro, quantidade de litros e o valor do desconto.\n",
        "- O valor a ser pago por um cliente será o resultado da multiplicação do preço do litro pela quantidade de litros menos o valor de desconto resultante do cálculo.\n"
      ],
      "metadata": {
        "id": "_PpEpOugHXwZ"
      }
    },
    {
      "cell_type": "code",
      "source": [
        "quantidade_litros = float(input('Informe a quantidade de litros vendidos: '))\n",
        "tipo_combustivel = input('Informe o tipo de combustível (E para etanol e D para diesel): ').upper()\n",
        "\n",
        "if tipo_combustivel == 'E':\n",
        "  preco_litro = 1.70\n",
        "  if quantidade_litros <= 15:\n",
        "    desconto = 0.02\n",
        "  else:\n",
        "    desconto = 0.04\n",
        "\n",
        "elif tipo_combustivel == 'D':\n",
        "  preco_litro = 2.00\n",
        "  if quantidade_litros <= 15:\n",
        "    desconto = 0.03\n",
        "  else:\n",
        "    desconto = 0.05\n",
        "\n",
        "else:\n",
        "    print('Entradas inválidas!')\n",
        "    preco_litro = 0\n",
        "    desconto = 0\n",
        "\n",
        "valor_desconto = preco_litro * quantidade_litros * desconto\n",
        "valor_pago = preco_litro * quantidade_litros - valor_desconto\n",
        "\n",
        "print(f'Valor a ser pago pelo cliente: R$ {valor_pago}')"
      ],
      "metadata": {
        "id": "9izoF-0O-1yD",
        "colab": {
          "base_uri": "https://localhost:8080/"
        },
        "outputId": "655e5a81-8e40-4263-cc32-35d319e8353e"
      },
      "execution_count": 68,
      "outputs": [
        {
          "output_type": "stream",
          "name": "stdout",
          "text": [
            "Informe a quantidade de litros vendidos: 50\n",
            "Informe o tipo de combustível (E para etanol e D para diesel): e\n",
            "Valor a ser pago pelo cliente: R$ 81.6\n"
          ]
        }
      ]
    },
    {
      "cell_type": "markdown",
      "source": [
        "#### Questão 13\n",
        "Em uma empresa de venda de imóveis você precisa criar um código que analise os dados de vendas anuais para ajudar a diretoria na tomada de decisão. O código precisa coletar os dados de quantidade de venda durante os anos de 2022 e 2023 e fazer um cálculo de variação percentual. A partir do valor da variação, deve ser enviada às seguintes sugestões:\n",
        "- Para variação acima de 20%: bonificação para o time de vendas.\n",
        "- Para variação entre 2% e 20%: pequena bonificação para time de vendas.\n",
        "- Para variação entre 2% e -10%: planejamento de políticas de incentivo às vendas.\n",
        "- Para bonificações abaixo de -10%: corte de gastos.\n"
      ],
      "metadata": {
        "id": "s_XS_D1WHY2R"
      }
    },
    {
      "cell_type": "code",
      "source": [
        "qtd_vendas_2022 = int(input('Insira a quantidade de vendas de 2022: '))\n",
        "qtd_vendas_2023 = int(input('Insira a quantidade de vendas de 2023: '))\n",
        "\n",
        "variacao_percentual = 100 * (qtd_vendas_2023 - qtd_vendas_2022) / qtd_vendas_2022\n",
        "\n",
        "if variacao_percentual > 20:\n",
        "  print(f'Bonificação para o time de vendas! Eba!')\n",
        "\n",
        "elif variacao_percentual >= 2 and variacao_percentual <= 20:\n",
        "  print(f'Pequena bonificação para o time de vendas. Ebinha! ')\n",
        "\n",
        "elif variacao_percentual < 2 and variacao_percentual >= -10:\n",
        "  print(f'Planejamento de políticas de incentivo às vendas.')\n",
        "\n",
        "else:\n",
        "  print(f'Corte de gastos.')"
      ],
      "metadata": {
        "id": "avQrYlUg-w8f",
        "colab": {
          "base_uri": "https://localhost:8080/"
        },
        "outputId": "3c22523c-8142-44e8-d401-9a37c38170fa"
      },
      "execution_count": 72,
      "outputs": [
        {
          "output_type": "stream",
          "name": "stdout",
          "text": [
            "Insira a quantidade de vendas de 2022: 5000\n",
            "Insira a quantidade de vendas de 2023: 5000\n",
            "Planejamento de políticas de incentivo às vendas.\n"
          ]
        }
      ]
    },
    {
      "cell_type": "markdown",
      "source": [
        "## Aula 4 - Estruturas de repetição"
      ],
      "metadata": {
        "id": "AuaWh4-d2Itt"
      }
    },
    {
      "cell_type": "markdown",
      "source": [
        "### Aquecendo na programação"
      ],
      "metadata": {
        "id": "6MSqU0sIJRdD"
      }
    },
    {
      "cell_type": "markdown",
      "source": [
        "#### Questão 1\n",
        "Escreva um programa que peça dois números inteiros e imprima todos os números inteiros entre eles."
      ],
      "metadata": {
        "id": "9eGGyCnAJRdQ"
      }
    },
    {
      "cell_type": "code",
      "source": [],
      "metadata": {
        "id": "ID1oc1hxJRdQ"
      },
      "execution_count": null,
      "outputs": []
    },
    {
      "cell_type": "markdown",
      "source": [
        "#### Questão 2\n",
        "Escreva um programa para calcular quantos dias levará para a colônia de uma bactéria A ultrapassar ou igualar a colônia de uma bactéria B, com base nas taxas de crescimento de 3% e 1,5% respectivamente. Considere que a colônia A inicia com 4 elementos e a colônia B com 10 elementos."
      ],
      "metadata": {
        "id": "mGonEHYCJRdR"
      }
    },
    {
      "cell_type": "code",
      "source": [],
      "metadata": {
        "id": "wM6FJuoqJRdR"
      },
      "execution_count": null,
      "outputs": []
    },
    {
      "cell_type": "markdown",
      "source": [
        "#### Questão 3\n",
        "Para tratar uma quantidade de 15 dados de avaliações de pessoas usuárias de um serviço da empresa, precisamos verificar se as notas são válidas. Então, escreva um programa que vai receber a nota de 0 a 5 de todos os dados e verificar se é um valor válido. Caso seja inserido uma nota acima de 5 ou abaixo de 0, repita até que a pessoa usuária insira um valor válido."
      ],
      "metadata": {
        "id": "UiOZRlqoJRdR"
      }
    },
    {
      "cell_type": "code",
      "source": [],
      "metadata": {
        "id": "3TUAhCxcJRdR"
      },
      "execution_count": null,
      "outputs": []
    },
    {
      "cell_type": "markdown",
      "source": [
        "#### Questão 4\n",
        "Desenvolva um programa que leia um conjunto indeterminado de temperaturas em Celsius e faça uma análise. Portanto, escreva um programa que leia temperaturas e informe a média delas. A leitura deve ser encerrada ao ser enviado o valor -273°C."
      ],
      "metadata": {
        "id": "ABv3KObGJRdR"
      }
    },
    {
      "cell_type": "code",
      "source": [],
      "metadata": {
        "id": "85tBBj5KJRdS"
      },
      "execution_count": null,
      "outputs": []
    },
    {
      "cell_type": "markdown",
      "source": [
        "#### Questão 5\n",
        "Escreva um programa que calcule o fatorial de um número inteiro fornecido pela pessoa usuária. O fatorial de um número inteiro é a multiplicação desse número por todos os seus antecessores até o número 1. Por exemplo, o fatorial de 5 é 5 x 4 x 3 x 2 x 1 = 120."
      ],
      "metadata": {
        "id": "IjkbAfGcJRdS"
      }
    },
    {
      "cell_type": "code",
      "source": [],
      "metadata": {
        "id": "7RTH8o0HJRdS"
      },
      "execution_count": null,
      "outputs": []
    },
    {
      "cell_type": "markdown",
      "source": [
        "### Momento dos projetos"
      ],
      "metadata": {
        "id": "oGNKuQjsJRdT"
      }
    },
    {
      "cell_type": "markdown",
      "source": [
        "#### Questão 6\n",
        "Escreva um programa que gere a tabuada de um número inteiro de 1 a 10, de acordo com a escolha da pessoa usuária. Como exemplo, para o número 2, a tabuada deve ser mostrada no seguinte formato:\n",
        "```\n",
        "Tabuada do 2:\n",
        "2 x 1 = 2\n",
        "2 x 2 = 4\n",
        "[...]\n",
        "2 x 10 = 20\n",
        "```"
      ],
      "metadata": {
        "id": "ODxaTUYmJRdS"
      }
    },
    {
      "cell_type": "code",
      "source": [],
      "metadata": {
        "id": "lkTlbxPIJRdS"
      },
      "execution_count": null,
      "outputs": []
    },
    {
      "cell_type": "markdown",
      "source": [
        "#### Questão 7\n",
        "Os números primos possuem várias aplicações dentro da Ciência de Dados, por exemplo, na criptografia e segurança. Um número primo é aquele que é divisível apenas por um e por ele mesmo. Faça um programa que peça um número inteiro e determine se ele é ou não um número primo."
      ],
      "metadata": {
        "id": "LeIbnt8VJRdS"
      }
    },
    {
      "cell_type": "code",
      "source": [],
      "metadata": {
        "id": "2rcNU7twJRdS"
      },
      "execution_count": null,
      "outputs": []
    },
    {
      "cell_type": "markdown",
      "source": [
        "#### Questão 8\n",
        "Vamos entender a distribuição de idades de pensionistas de uma empresa de previdência. Escreva um programa que leia as idades de uma quantidade não informada de clientes e mostre a distribuição em intervalos de [0-25], [26-50], [51-75] e [76-100]. Encerre a entrada de dados com um número negativo."
      ],
      "metadata": {
        "id": "QTwb6QaCJRdT"
      }
    },
    {
      "cell_type": "code",
      "source": [],
      "metadata": {
        "id": "4IAhaDmYJRdT"
      },
      "execution_count": null,
      "outputs": []
    },
    {
      "cell_type": "markdown",
      "source": [
        "#### Questão 9\n",
        "Em uma eleição para gerência em uma empresa com 20 funcionários, existem quatro candidatos. Escreva um programa que calcule o vencedor da eleição. A votação ocorreu da seguinte maneira:\n",
        "- Cada funcionário votou em um dos quatro candidatos (representados pelos números 1, 2, 3 e 4).\n",
        "- Também foram contabilizados os votos nulos (representado pelo número 5) e os votos em branco (representado pelo número 6).\n",
        "\n",
        "Ao final da votação, o programa deve exibir o total de votos para cada candidato, o número de votos nulos e o número de votos em branco. Além disso, deve calcular e exibir a porcentagem de votos nulos em relação ao total de votos e a porcentagem de votos em branco em relação ao total de votos."
      ],
      "metadata": {
        "id": "soJCQVwRJRdT"
      }
    },
    {
      "cell_type": "code",
      "source": [],
      "metadata": {
        "id": "041EFrgG-4gR"
      },
      "execution_count": null,
      "outputs": []
    },
    {
      "cell_type": "markdown",
      "source": [
        "## Aula 5 - Estruturas de dados"
      ],
      "metadata": {
        "id": "eijHQiNU2IZ7"
      }
    },
    {
      "cell_type": "markdown",
      "source": [
        "### Aquecendo na programação"
      ],
      "metadata": {
        "id": "92F0bKtBMgd7"
      }
    },
    {
      "cell_type": "markdown",
      "source": [
        "#### Questão 1\n",
        "Faça um programa que tenha a seguinte lista contendo os valores de gastos de uma empresa de papel `[2172.54, 3701.35, 3518.09, 3456.61, 3249.38, 2840.82, 3891.45, 3075.26, 2317.64, 3219.08]`. Com esses valores, faça um programa que calcule a média de gastos. Dica, use as funções built-in [`sum()`](https://docs.python.org/3/library/functions.html#sum) e [`len()`](https://docs.python.org/3/library/functions.html#len)."
      ],
      "metadata": {
        "id": "IypX2ANuMgeC"
      }
    },
    {
      "cell_type": "code",
      "source": [],
      "metadata": {
        "id": "ge3LuFhLMgeD"
      },
      "execution_count": null,
      "outputs": []
    },
    {
      "cell_type": "markdown",
      "source": [
        "#### Questão 2\n",
        " Com os mesmos dados da questão anterior, defina quantas compras foram acima de 3000 reais e calcule a porcentagem quanto ao total de compras."
      ],
      "metadata": {
        "id": "xrOeLhQkMgeD"
      }
    },
    {
      "cell_type": "code",
      "source": [],
      "metadata": {
        "id": "Ygu5TMZyMgeD"
      },
      "execution_count": null,
      "outputs": []
    },
    {
      "cell_type": "markdown",
      "source": [
        "#### Questão 3\n",
        "Faça um código que colete em uma lista 5 números inteiros quaisquer e imprima a lista. Exemplo: `[1,4,7,2,4]`."
      ],
      "metadata": {
        "id": "JgCOrE_BMgeD"
      }
    },
    {
      "cell_type": "code",
      "source": [],
      "metadata": {
        "id": "vtM9O1hLMgeD"
      },
      "execution_count": null,
      "outputs": []
    },
    {
      "cell_type": "markdown",
      "source": [
        "#### Questão 4\n",
        "Colete novamente 5 inteiros e imprima a lista em ordem inversa à enviada."
      ],
      "metadata": {
        "id": "p3bTp88HMgeD"
      }
    },
    {
      "cell_type": "code",
      "source": [],
      "metadata": {
        "id": "-CGwMIyHMgeD"
      },
      "execution_count": null,
      "outputs": []
    },
    {
      "cell_type": "markdown",
      "source": [
        "#### Questão 5\n",
        "Faça um programa que, ao inserir um número qualquer, criará uma lista contendo todos os números primos entre 1 e o número digitado."
      ],
      "metadata": {
        "id": "eIXd_z1lMgeD"
      }
    },
    {
      "cell_type": "code",
      "source": [],
      "metadata": {
        "id": "rj_6GHstMgeE"
      },
      "execution_count": null,
      "outputs": []
    },
    {
      "cell_type": "markdown",
      "source": [
        "#### Questão 6\n",
        "Escreva um programa que peça uma data informando o dia, mês e ano e determine se ela é uma data válida para uma análise."
      ],
      "metadata": {
        "id": "zrbz3ENlMgeE"
      }
    },
    {
      "cell_type": "code",
      "source": [],
      "metadata": {
        "id": "0eYA8UjTMgeE"
      },
      "execution_count": null,
      "outputs": []
    },
    {
      "cell_type": "markdown",
      "source": [
        "### Momento dos projetos"
      ],
      "metadata": {
        "id": "ut_4VHdGMgeE"
      }
    },
    {
      "cell_type": "markdown",
      "source": [
        "#### Questão 7\n",
        "Para um estudo envolvendo o nível de multiplicação de bactérias em uma colônia, foi coletado o número de bactérias multiplicadas por dia, com base em um processo de duplicação diária e pode ser observado a seguir: `[1.2, 2.1, 3.3, 5.0, 7.8, 11.3, 16.6, 25.1, 37.8, 56.9]`. Tendo esses valores, faça um código que gere uma lista contendo o percentual de crescimento de bactérias por dia, comparando o número de bactérias em cada dia com o número de bactérias do dia anterior. Dica: para calcular o percentual de crescimento usamos a seguinte equação: `100 * (amostra_atual - amostra_passada) / (amostra_passada)`."
      ],
      "metadata": {
        "id": "G86Z0vD_MgeE"
      }
    },
    {
      "cell_type": "code",
      "source": [],
      "metadata": {
        "id": "PXNO_CFkMgeE"
      },
      "execution_count": null,
      "outputs": []
    },
    {
      "cell_type": "markdown",
      "source": [
        "#### Questão 8\n",
        "Para uma seleção de produtos alimentícios, precisamos separar o conjunto de IDs dados por números inteiros, sabendo que os produtos com ID par são doces e os com ID ímpar são amargos. Monte um código que colete 10 IDs. Depois, calcule e mostre a quantidade de produtos doces e amargos."
      ],
      "metadata": {
        "id": "p4nxogpnMgeE"
      }
    },
    {
      "cell_type": "code",
      "source": [],
      "metadata": {
        "id": "WqjO2SZkMgeE"
      },
      "execution_count": null,
      "outputs": []
    },
    {
      "cell_type": "markdown",
      "source": [
        "#### Questão 9\n",
        "Desenvolva um programa que informa a nota de um aluno de acordo com suas respostas. Ele deve pedir a resposta de um aluno para cada questão e é preciso verificar se a resposta foi igual ao gabarito. Cada questão vale um ponto e existem alternativas:  A, B, C ou D.\n",
        "```\n",
        "Gabarito da Prova:\n",
        "01 - D\n",
        "02 - A\n",
        "03 - C\n",
        "04 - B\n",
        "05 - A\n",
        "06 - D\n",
        "07 - C\n",
        "08 - C\n",
        "09 - A\n",
        "10 - B\n",
        "```"
      ],
      "metadata": {
        "id": "t5OrLxV6MgeE"
      }
    },
    {
      "cell_type": "code",
      "source": [],
      "metadata": {
        "id": "ytIQDJrQMgeE"
      },
      "execution_count": null,
      "outputs": []
    },
    {
      "cell_type": "markdown",
      "source": [
        "#### Questão 10\n",
        "Um instituto de meteorologia deseja fazer um estudo de temperatura média de cada mês do ano. Para isso, você precisa fazer um código que colete e armazene essas temperaturas médias em uma lista. Depois, calcule a média anual das temperaturas e mostre todas as temperaturas acima da média anual, e em que mês elas ocorreram, mostrando os meses por extenso: Janeiro, Fevereiro, etc."
      ],
      "metadata": {
        "id": "aSBMzh-AMgeF"
      }
    },
    {
      "cell_type": "code",
      "source": [],
      "metadata": {
        "id": "ftj04s2uMgeF"
      },
      "execution_count": null,
      "outputs": []
    },
    {
      "cell_type": "markdown",
      "source": [
        "#### Questão 11\n",
        "Uma empresa de e-commerce está interessada em analisar as vendas dos seus produtos. Os dados das vendas foram armazenados em um dicionário:\n",
        "```\n",
        "{'Produto A': 300, 'Produto B': 80, 'Produto C': 60,\n",
        " 'Produto D': 200, 'Produto E': 250, 'Produto F': 30}\n",
        "```\n",
        "Escreva um código que calcule o total de vendas e o produto mais vendido."
      ],
      "metadata": {
        "id": "0X8S6s4jMgeF"
      }
    },
    {
      "cell_type": "code",
      "source": [],
      "metadata": {
        "id": "Xa3DJLtFMgeF"
      },
      "execution_count": null,
      "outputs": []
    },
    {
      "cell_type": "markdown",
      "source": [
        "#### Questão 12\n",
        "Uma pesquisa de mercado foi feita para decidir qual design de uma marca infantil mais agrada crianças. A pesquisa foi feita e o votos computados podem ser observados abaixo:\n",
        "```\n",
        "'''\n",
        "Tabela de votos da marca\n",
        "Design 1 - 1334 votos\n",
        "Design 2 - 982 votos\n",
        "Design 3 - 1751 votos\n",
        "Design 4 - 210 votos\n",
        "Design 5 - 1811 votos\n",
        "'''\n",
        "```\n",
        "Adapte os dados fornecidos a você para uma estrutura de dicionário e a partir dele, informe o design vencedor e a porcentagem de votos recebidos.\n"
      ],
      "metadata": {
        "id": "nrEwf_1ZMgeF"
      }
    },
    {
      "cell_type": "code",
      "source": [],
      "metadata": {
        "id": "MRPcGR-_MgeF"
      },
      "execution_count": null,
      "outputs": []
    },
    {
      "cell_type": "markdown",
      "source": [
        "#### Questão 13\n",
        "Os funcionários de um setor da empresa que você trabalha vão receber um abono correspondente a 10% do seu salário devido ao ótimo desempenho do time. O setor financeiro solicitou sua ajuda para a verificação das consequências financeiras que esse abono irá gerar nos recursos. Assim, foi encaminhada para você uma lista com os salários que receberão o abono: `[1172, 1644, 2617, 5130, 5532, 6341, 6650, 7238, 7685, 7782, 7903]`. O abono de cada funcionário não pode ser inferior a 200. Em código, transforme cada um dos salários em chaves de um dicionário e o abono de cada salário no elemento. Depois, informe o total de gastos com o abono, quantos funcionários receberam o abono mínimo e qual o maior valor de abono fornecido.\n"
      ],
      "metadata": {
        "id": "HRTFFzKIMgeF"
      }
    },
    {
      "cell_type": "code",
      "source": [],
      "metadata": {
        "id": "QsDSCua42bLB"
      },
      "execution_count": null,
      "outputs": []
    },
    {
      "cell_type": "markdown",
      "source": [
        "#### Questão 14\n",
        "Uma equipe de cientistas de dados está estudando a diversidade biológica em uma floresta. A equipe fez a coleta de informações sobre o número de espécies de plantas e animais em cada área da floresta e armazenaram essas informações em um dicionário. Nele, a chave descreve a área dos dados e os valores nas listas correspondem às espécies de plantas e animais nas áreas, respectivamente.\n",
        "```\n",
        "{'Área Norte': [2819, 7236],\n",
        " 'Área Leste': [1440, 9492],\n",
        " 'Área Sul': [5969, 7496],\n",
        " 'Área Oeste': [14446, 49688],\n",
        " 'Área Centro': [22558, 45148]}\n",
        "```\n",
        "Escreva um código para calcular a média de espécies por área e identificar a área com a maior diversidade biológica. Dica: use as funções built-in [`sum()`](https://docs.python.org/3/library/functions.html#sum) e [`len()`](https://docs.python.org/3/library/functions.html#len).\n"
      ],
      "metadata": {
        "id": "6dEXZEwjMlWy"
      }
    },
    {
      "cell_type": "code",
      "source": [],
      "metadata": {
        "id": "eQnOUDfYMlWy"
      },
      "execution_count": null,
      "outputs": []
    },
    {
      "cell_type": "markdown",
      "source": [
        "#### Questão 15\n",
        "O setor de RH da sua empresa te pediu uma ajuda para analisar as idades dos funcionários de 4 setores da empresa. Para isso, ele te forneceu os seguintes dados:\n",
        "```\n",
        "{'Setor A': [22, 26, 30, 30, 35, 38, 40, 56, 57, 65],\n",
        " 'Setor B': [22, 24, 26, 33, 41, 49, 50, 54, 60, 64],\n",
        " 'Setor C': [23, 26, 26, 29, 34, 35, 36, 41, 52, 56],\n",
        " 'Setor D': [19, 20, 25, 27, 34, 39, 42, 44, 50, 65]}\n",
        "```\n",
        "Sabendo que cada setor tem 10 funcionários, construa um código que calcule a média de idade de cada setor, a idade média geral entre todos os setores e quantas pessoas estão acima da idade média geral.\n"
      ],
      "metadata": {
        "id": "r0RW2Sy_MlWy"
      }
    },
    {
      "cell_type": "code",
      "source": [],
      "metadata": {
        "id": "wCiwyKP3MmTz"
      },
      "execution_count": null,
      "outputs": []
    }
  ]
}